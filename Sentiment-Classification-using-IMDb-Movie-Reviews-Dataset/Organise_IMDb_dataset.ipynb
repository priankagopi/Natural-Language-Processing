{
 "cells": [
  {
   "cell_type": "code",
   "execution_count": 1,
   "metadata": {},
   "outputs": [],
   "source": [
    "import os\n",
    "import csv"
   ]
  },
  {
   "cell_type": "code",
   "execution_count": 2,
   "metadata": {},
   "outputs": [],
   "source": [
    "data_dir = \"C:/Users/HP/Downloads/data\"\n",
    "\n",
    "def read_imdb_split(split_dir):\n",
    "    split_dir = os.path.join(data_dir, split_dir)\n",
    "    texts = []\n",
    "    labels = []\n",
    "    for label_dir in [\"pos\", \"neg\"]:\n",
    "        for text_file in os.listdir(os.path.join(split_dir, label_dir)):\n",
    "            with open(os.path.join(split_dir, label_dir, text_file), \"r\", encoding=\"utf-8\") as f:\n",
    "                texts.append(f.read())\n",
    "                labels.append(0 if label_dir == \"neg\" else 1)\n",
    "    return texts, labels"
   ]
  },
  {
   "cell_type": "code",
   "execution_count": 3,
   "metadata": {},
   "outputs": [],
   "source": [
    "train_texts, train_labels = read_imdb_split(\"train\")\n",
    "test_texts, test_labels = read_imdb_split(\"test\")"
   ]
  },
  {
   "cell_type": "code",
   "execution_count": 4,
   "metadata": {},
   "outputs": [],
   "source": [
    "with open(\"C:/Users/HP/Downloads/data/imdb_train.csv\", \"w\", newline=\"\", encoding=\"utf-8\") as f:\n",
    "    writer = csv.writer(f)\n",
    "    writer.writerow([\"text\", \"label\"])\n",
    "    for text, label in zip(train_texts, train_labels):\n",
    "        writer.writerow([text, label])\n",
    "\n",
    "with open(\"C:/Users/HP/Downloads/data/imdb_test.csv\", \"w\", newline=\"\", encoding=\"utf-8\") as f:\n",
    "    writer = csv.writer(f)\n",
    "    writer.writerow([\"text\", \"label\"])\n",
    "    for text, label in zip(test_texts, test_labels):\n",
    "        writer.writerow([text, label])"
   ]
  }
 ],
 "metadata": {
  "kernelspec": {
   "display_name": "Python 3",
   "language": "python",
   "name": "python3"
  },
  "language_info": {
   "codemirror_mode": {
    "name": "ipython",
    "version": 3
   },
   "file_extension": ".py",
   "mimetype": "text/x-python",
   "name": "python",
   "nbconvert_exporter": "python",
   "pygments_lexer": "ipython3",
   "version": "3.7.6"
  }
 },
 "nbformat": 4,
 "nbformat_minor": 4
}
