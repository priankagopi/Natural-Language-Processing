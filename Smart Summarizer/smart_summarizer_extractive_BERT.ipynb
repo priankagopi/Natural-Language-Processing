{
  "nbformat": 4,
  "nbformat_minor": 0,
  "metadata": {
    "colab": {
      "provenance": []
    },
    "kernelspec": {
      "name": "python3",
      "display_name": "Python 3"
    },
    "language_info": {
      "name": "python"
    }
  },
  "cells": [
    {
      "cell_type": "code",
      "execution_count": 46,
      "metadata": {
        "colab": {
          "base_uri": "https://localhost:8080/"
        },
        "id": "NCIA2fUONqze",
        "outputId": "94cc168a-9341-4140-9cdb-68a946d09442"
      },
      "outputs": [
        {
          "output_type": "stream",
          "name": "stdout",
          "text": [
            "Looking in indexes: https://pypi.org/simple, https://us-python.pkg.dev/colab-wheels/public/simple/\n",
            "Requirement already satisfied: transformers in /usr/local/lib/python3.9/dist-packages (4.27.4)\n",
            "Requirement already satisfied: filelock in /usr/local/lib/python3.9/dist-packages (from transformers) (3.11.0)\n",
            "Requirement already satisfied: pyyaml>=5.1 in /usr/local/lib/python3.9/dist-packages (from transformers) (6.0)\n",
            "Requirement already satisfied: numpy>=1.17 in /usr/local/lib/python3.9/dist-packages (from transformers) (1.22.4)\n",
            "Requirement already satisfied: regex!=2019.12.17 in /usr/local/lib/python3.9/dist-packages (from transformers) (2022.10.31)\n",
            "Requirement already satisfied: tokenizers!=0.11.3,<0.14,>=0.11.1 in /usr/local/lib/python3.9/dist-packages (from transformers) (0.13.3)\n",
            "Requirement already satisfied: tqdm>=4.27 in /usr/local/lib/python3.9/dist-packages (from transformers) (4.65.0)\n",
            "Requirement already satisfied: requests in /usr/local/lib/python3.9/dist-packages (from transformers) (2.27.1)\n",
            "Requirement already satisfied: huggingface-hub<1.0,>=0.11.0 in /usr/local/lib/python3.9/dist-packages (from transformers) (0.13.4)\n",
            "Requirement already satisfied: packaging>=20.0 in /usr/local/lib/python3.9/dist-packages (from transformers) (23.0)\n",
            "Requirement already satisfied: typing-extensions>=3.7.4.3 in /usr/local/lib/python3.9/dist-packages (from huggingface-hub<1.0,>=0.11.0->transformers) (4.5.0)\n",
            "Requirement already satisfied: urllib3<1.27,>=1.21.1 in /usr/local/lib/python3.9/dist-packages (from requests->transformers) (1.26.15)\n",
            "Requirement already satisfied: charset-normalizer~=2.0.0 in /usr/local/lib/python3.9/dist-packages (from requests->transformers) (2.0.12)\n",
            "Requirement already satisfied: idna<4,>=2.5 in /usr/local/lib/python3.9/dist-packages (from requests->transformers) (3.4)\n",
            "Requirement already satisfied: certifi>=2017.4.17 in /usr/local/lib/python3.9/dist-packages (from requests->transformers) (2022.12.7)\n",
            "Looking in indexes: https://pypi.org/simple, https://us-python.pkg.dev/colab-wheels/public/simple/\n",
            "Requirement already satisfied: bert-extractive-summarizer in /usr/local/lib/python3.9/dist-packages (0.10.1)\n",
            "Requirement already satisfied: transformers in /usr/local/lib/python3.9/dist-packages (from bert-extractive-summarizer) (4.27.4)\n",
            "Requirement already satisfied: spacy in /usr/local/lib/python3.9/dist-packages (from bert-extractive-summarizer) (3.5.1)\n",
            "Requirement already satisfied: scikit-learn in /usr/local/lib/python3.9/dist-packages (from bert-extractive-summarizer) (1.2.2)\n",
            "Requirement already satisfied: threadpoolctl>=2.0.0 in /usr/local/lib/python3.9/dist-packages (from scikit-learn->bert-extractive-summarizer) (3.1.0)\n",
            "Requirement already satisfied: scipy>=1.3.2 in /usr/local/lib/python3.9/dist-packages (from scikit-learn->bert-extractive-summarizer) (1.10.1)\n",
            "Requirement already satisfied: joblib>=1.1.1 in /usr/local/lib/python3.9/dist-packages (from scikit-learn->bert-extractive-summarizer) (1.2.0)\n",
            "Requirement already satisfied: numpy>=1.17.3 in /usr/local/lib/python3.9/dist-packages (from scikit-learn->bert-extractive-summarizer) (1.22.4)\n",
            "Requirement already satisfied: requests<3.0.0,>=2.13.0 in /usr/local/lib/python3.9/dist-packages (from spacy->bert-extractive-summarizer) (2.27.1)\n",
            "Requirement already satisfied: thinc<8.2.0,>=8.1.8 in /usr/local/lib/python3.9/dist-packages (from spacy->bert-extractive-summarizer) (8.1.9)\n",
            "Requirement already satisfied: setuptools in /usr/local/lib/python3.9/dist-packages (from spacy->bert-extractive-summarizer) (67.6.1)\n",
            "Requirement already satisfied: smart-open<7.0.0,>=5.2.1 in /usr/local/lib/python3.9/dist-packages (from spacy->bert-extractive-summarizer) (6.3.0)\n",
            "Requirement already satisfied: wasabi<1.2.0,>=0.9.1 in /usr/local/lib/python3.9/dist-packages (from spacy->bert-extractive-summarizer) (1.1.1)\n",
            "Requirement already satisfied: pydantic!=1.8,!=1.8.1,<1.11.0,>=1.7.4 in /usr/local/lib/python3.9/dist-packages (from spacy->bert-extractive-summarizer) (1.10.7)\n",
            "Requirement already satisfied: catalogue<2.1.0,>=2.0.6 in /usr/local/lib/python3.9/dist-packages (from spacy->bert-extractive-summarizer) (2.0.8)\n",
            "Requirement already satisfied: langcodes<4.0.0,>=3.2.0 in /usr/local/lib/python3.9/dist-packages (from spacy->bert-extractive-summarizer) (3.3.0)\n",
            "Requirement already satisfied: cymem<2.1.0,>=2.0.2 in /usr/local/lib/python3.9/dist-packages (from spacy->bert-extractive-summarizer) (2.0.7)\n",
            "Requirement already satisfied: preshed<3.1.0,>=3.0.2 in /usr/local/lib/python3.9/dist-packages (from spacy->bert-extractive-summarizer) (3.0.8)\n",
            "Requirement already satisfied: tqdm<5.0.0,>=4.38.0 in /usr/local/lib/python3.9/dist-packages (from spacy->bert-extractive-summarizer) (4.65.0)\n",
            "Requirement already satisfied: packaging>=20.0 in /usr/local/lib/python3.9/dist-packages (from spacy->bert-extractive-summarizer) (23.0)\n",
            "Requirement already satisfied: murmurhash<1.1.0,>=0.28.0 in /usr/local/lib/python3.9/dist-packages (from spacy->bert-extractive-summarizer) (1.0.9)\n",
            "Requirement already satisfied: pathy>=0.10.0 in /usr/local/lib/python3.9/dist-packages (from spacy->bert-extractive-summarizer) (0.10.1)\n",
            "Requirement already satisfied: typer<0.8.0,>=0.3.0 in /usr/local/lib/python3.9/dist-packages (from spacy->bert-extractive-summarizer) (0.7.0)\n",
            "Requirement already satisfied: srsly<3.0.0,>=2.4.3 in /usr/local/lib/python3.9/dist-packages (from spacy->bert-extractive-summarizer) (2.4.6)\n",
            "Requirement already satisfied: spacy-legacy<3.1.0,>=3.0.11 in /usr/local/lib/python3.9/dist-packages (from spacy->bert-extractive-summarizer) (3.0.12)\n",
            "Requirement already satisfied: spacy-loggers<2.0.0,>=1.0.0 in /usr/local/lib/python3.9/dist-packages (from spacy->bert-extractive-summarizer) (1.0.4)\n",
            "Requirement already satisfied: jinja2 in /usr/local/lib/python3.9/dist-packages (from spacy->bert-extractive-summarizer) (3.1.2)\n",
            "Requirement already satisfied: tokenizers!=0.11.3,<0.14,>=0.11.1 in /usr/local/lib/python3.9/dist-packages (from transformers->bert-extractive-summarizer) (0.13.3)\n",
            "Requirement already satisfied: regex!=2019.12.17 in /usr/local/lib/python3.9/dist-packages (from transformers->bert-extractive-summarizer) (2022.10.31)\n",
            "Requirement already satisfied: filelock in /usr/local/lib/python3.9/dist-packages (from transformers->bert-extractive-summarizer) (3.11.0)\n",
            "Requirement already satisfied: huggingface-hub<1.0,>=0.11.0 in /usr/local/lib/python3.9/dist-packages (from transformers->bert-extractive-summarizer) (0.13.4)\n",
            "Requirement already satisfied: pyyaml>=5.1 in /usr/local/lib/python3.9/dist-packages (from transformers->bert-extractive-summarizer) (6.0)\n",
            "Requirement already satisfied: typing-extensions>=3.7.4.3 in /usr/local/lib/python3.9/dist-packages (from huggingface-hub<1.0,>=0.11.0->transformers->bert-extractive-summarizer) (4.5.0)\n",
            "Requirement already satisfied: certifi>=2017.4.17 in /usr/local/lib/python3.9/dist-packages (from requests<3.0.0,>=2.13.0->spacy->bert-extractive-summarizer) (2022.12.7)\n",
            "Requirement already satisfied: urllib3<1.27,>=1.21.1 in /usr/local/lib/python3.9/dist-packages (from requests<3.0.0,>=2.13.0->spacy->bert-extractive-summarizer) (1.26.15)\n",
            "Requirement already satisfied: idna<4,>=2.5 in /usr/local/lib/python3.9/dist-packages (from requests<3.0.0,>=2.13.0->spacy->bert-extractive-summarizer) (3.4)\n",
            "Requirement already satisfied: charset-normalizer~=2.0.0 in /usr/local/lib/python3.9/dist-packages (from requests<3.0.0,>=2.13.0->spacy->bert-extractive-summarizer) (2.0.12)\n",
            "Requirement already satisfied: confection<1.0.0,>=0.0.1 in /usr/local/lib/python3.9/dist-packages (from thinc<8.2.0,>=8.1.8->spacy->bert-extractive-summarizer) (0.0.4)\n",
            "Requirement already satisfied: blis<0.8.0,>=0.7.8 in /usr/local/lib/python3.9/dist-packages (from thinc<8.2.0,>=8.1.8->spacy->bert-extractive-summarizer) (0.7.9)\n",
            "Requirement already satisfied: click<9.0.0,>=7.1.1 in /usr/local/lib/python3.9/dist-packages (from typer<0.8.0,>=0.3.0->spacy->bert-extractive-summarizer) (8.1.3)\n",
            "Requirement already satisfied: MarkupSafe>=2.0 in /usr/local/lib/python3.9/dist-packages (from jinja2->spacy->bert-extractive-summarizer) (2.1.2)\n",
            "Looking in indexes: https://pypi.org/simple, https://us-python.pkg.dev/colab-wheels/public/simple/\n",
            "Requirement already satisfied: spacy in /usr/local/lib/python3.9/dist-packages (3.5.1)\n",
            "Requirement already satisfied: thinc<8.2.0,>=8.1.8 in /usr/local/lib/python3.9/dist-packages (from spacy) (8.1.9)\n",
            "Requirement already satisfied: pathy>=0.10.0 in /usr/local/lib/python3.9/dist-packages (from spacy) (0.10.1)\n",
            "Requirement already satisfied: numpy>=1.15.0 in /usr/local/lib/python3.9/dist-packages (from spacy) (1.22.4)\n",
            "Requirement already satisfied: pydantic!=1.8,!=1.8.1,<1.11.0,>=1.7.4 in /usr/local/lib/python3.9/dist-packages (from spacy) (1.10.7)\n",
            "Requirement already satisfied: requests<3.0.0,>=2.13.0 in /usr/local/lib/python3.9/dist-packages (from spacy) (2.27.1)\n",
            "Requirement already satisfied: catalogue<2.1.0,>=2.0.6 in /usr/local/lib/python3.9/dist-packages (from spacy) (2.0.8)\n",
            "Requirement already satisfied: setuptools in /usr/local/lib/python3.9/dist-packages (from spacy) (67.6.1)\n",
            "Requirement already satisfied: murmurhash<1.1.0,>=0.28.0 in /usr/local/lib/python3.9/dist-packages (from spacy) (1.0.9)\n",
            "Requirement already satisfied: wasabi<1.2.0,>=0.9.1 in /usr/local/lib/python3.9/dist-packages (from spacy) (1.1.1)\n",
            "Requirement already satisfied: preshed<3.1.0,>=3.0.2 in /usr/local/lib/python3.9/dist-packages (from spacy) (3.0.8)\n",
            "Requirement already satisfied: tqdm<5.0.0,>=4.38.0 in /usr/local/lib/python3.9/dist-packages (from spacy) (4.65.0)\n",
            "Requirement already satisfied: langcodes<4.0.0,>=3.2.0 in /usr/local/lib/python3.9/dist-packages (from spacy) (3.3.0)\n",
            "Requirement already satisfied: smart-open<7.0.0,>=5.2.1 in /usr/local/lib/python3.9/dist-packages (from spacy) (6.3.0)\n",
            "Requirement already satisfied: jinja2 in /usr/local/lib/python3.9/dist-packages (from spacy) (3.1.2)\n",
            "Requirement already satisfied: packaging>=20.0 in /usr/local/lib/python3.9/dist-packages (from spacy) (23.0)\n",
            "Requirement already satisfied: srsly<3.0.0,>=2.4.3 in /usr/local/lib/python3.9/dist-packages (from spacy) (2.4.6)\n",
            "Requirement already satisfied: spacy-legacy<3.1.0,>=3.0.11 in /usr/local/lib/python3.9/dist-packages (from spacy) (3.0.12)\n",
            "Requirement already satisfied: spacy-loggers<2.0.0,>=1.0.0 in /usr/local/lib/python3.9/dist-packages (from spacy) (1.0.4)\n",
            "Requirement already satisfied: typer<0.8.0,>=0.3.0 in /usr/local/lib/python3.9/dist-packages (from spacy) (0.7.0)\n",
            "Requirement already satisfied: cymem<2.1.0,>=2.0.2 in /usr/local/lib/python3.9/dist-packages (from spacy) (2.0.7)\n",
            "Requirement already satisfied: typing-extensions>=4.2.0 in /usr/local/lib/python3.9/dist-packages (from pydantic!=1.8,!=1.8.1,<1.11.0,>=1.7.4->spacy) (4.5.0)\n",
            "Requirement already satisfied: charset-normalizer~=2.0.0 in /usr/local/lib/python3.9/dist-packages (from requests<3.0.0,>=2.13.0->spacy) (2.0.12)\n",
            "Requirement already satisfied: urllib3<1.27,>=1.21.1 in /usr/local/lib/python3.9/dist-packages (from requests<3.0.0,>=2.13.0->spacy) (1.26.15)\n",
            "Requirement already satisfied: certifi>=2017.4.17 in /usr/local/lib/python3.9/dist-packages (from requests<3.0.0,>=2.13.0->spacy) (2022.12.7)\n",
            "Requirement already satisfied: idna<4,>=2.5 in /usr/local/lib/python3.9/dist-packages (from requests<3.0.0,>=2.13.0->spacy) (3.4)\n",
            "Requirement already satisfied: confection<1.0.0,>=0.0.1 in /usr/local/lib/python3.9/dist-packages (from thinc<8.2.0,>=8.1.8->spacy) (0.0.4)\n",
            "Requirement already satisfied: blis<0.8.0,>=0.7.8 in /usr/local/lib/python3.9/dist-packages (from thinc<8.2.0,>=8.1.8->spacy) (0.7.9)\n",
            "Requirement already satisfied: click<9.0.0,>=7.1.1 in /usr/local/lib/python3.9/dist-packages (from typer<0.8.0,>=0.3.0->spacy) (8.1.3)\n",
            "Requirement already satisfied: MarkupSafe>=2.0 in /usr/local/lib/python3.9/dist-packages (from jinja2->spacy) (2.1.2)\n"
          ]
        }
      ],
      "source": [
        "!pip install transformers\n",
        "!pip install bert-extractive-summarizer\n",
        "!pip install spacy"
      ]
    },
    {
      "cell_type": "code",
      "source": [
        "from transformers import pipeline\n",
        "import os\n",
        "from summarizer import Summarizer,TransformerSummarizer\n",
        "import pandas as pd\n",
        "import numpy as np\n",
        "from sklearn.cluster import KMeans\n",
        "kmeans = KMeans(n_clusters=5, n_init=10) "
      ],
      "metadata": {
        "id": "hBID-ZgIOO2-"
      },
      "execution_count": 47,
      "outputs": []
    },
    {
      "cell_type": "code",
      "source": [
        "data = pd.read_csv(\"/content/drive/MyDrive/Colab Notebooks/cnn_train.csv\",nrows=20)"
      ],
      "metadata": {
        "id": "mwSzw63TO6sW"
      },
      "execution_count": 48,
      "outputs": []
    },
    {
      "cell_type": "code",
      "source": [
        "bert_model = Summarizer()\n",
        "def generate_summary(article):\n",
        "  bert_summary = ''.join(bert_model(article, min_length=100))\n",
        "  return bert_summary"
      ],
      "metadata": {
        "colab": {
          "base_uri": "https://localhost:8080/"
        },
        "id": "MDL9p97POb6Q",
        "outputId": "0e62d0fd-771e-4fdb-fb4c-dbec83061dfe"
      },
      "execution_count": 49,
      "outputs": [
        {
          "output_type": "stream",
          "name": "stderr",
          "text": [
            "Some weights of the model checkpoint at bert-large-uncased were not used when initializing BertModel: ['cls.predictions.transform.dense.weight', 'cls.seq_relationship.weight', 'cls.seq_relationship.bias', 'cls.predictions.transform.dense.bias', 'cls.predictions.decoder.weight', 'cls.predictions.transform.LayerNorm.weight', 'cls.predictions.transform.LayerNorm.bias', 'cls.predictions.bias']\n",
            "- This IS expected if you are initializing BertModel from the checkpoint of a model trained on another task or with another architecture (e.g. initializing a BertForSequenceClassification model from a BertForPreTraining model).\n",
            "- This IS NOT expected if you are initializing BertModel from the checkpoint of a model that you expect to be exactly identical (initializing a BertForSequenceClassification model from a BertForSequenceClassification model).\n"
          ]
        }
      ]
    },
    {
      "cell_type": "code",
      "source": [
        "# generate summary for each article\n",
        "for i in range(len(data)):\n",
        "    article = data['article'][i]\n",
        "    summary = generate_summary(article)\n",
        "    print('Article', i+1, 'Summary:')\n",
        "    print(summary)\n",
        "    print('') # blank line between summaries"
      ],
      "metadata": {
        "colab": {
          "base_uri": "https://localhost:8080/"
        },
        "id": "0njF9qCoPWMx",
        "outputId": "841827a6-4124-4f2a-e585-1fa57efbed56"
      },
      "execution_count": 50,
      "outputs": [
        {
          "output_type": "stream",
          "name": "stderr",
          "text": [
            "/usr/local/lib/python3.9/dist-packages/sklearn/cluster/_kmeans.py:870: FutureWarning: The default value of `n_init` will change from 10 to 'auto' in 1.4. Set the value of `n_init` explicitly to suppress the warning\n",
            "  warnings.warn(\n"
          ]
        },
        {
          "output_type": "stream",
          "name": "stdout",
          "text": [
            "Article 1 Summary:\n",
            "The bishop of the Fargo Catholic Diocese in North Dakota has exposed potentially hundreds of church members in Fargo, Grand Forks and Jamestown to the hepatitis A virus in late September and early October. The diocese announced on Monday that Bishop John Folda is taking time off after being diagnosed with hepatitis A. The diocese says he contracted the infection through contaminated food while attending a conference for newly ordained bishops in Italy last month.\n",
            "\n"
          ]
        },
        {
          "output_type": "stream",
          "name": "stderr",
          "text": [
            "/usr/local/lib/python3.9/dist-packages/sklearn/cluster/_kmeans.py:870: FutureWarning: The default value of `n_init` will change from 10 to 'auto' in 1.4. Set the value of `n_init` explicitly to suppress the warning\n",
            "  warnings.warn(\n"
          ]
        },
        {
          "output_type": "stream",
          "name": "stdout",
          "text": [
            "Article 2 Summary:\n",
            "(CNN) -- Ralph Mata was an internal affairs lieutenant for the Miami-Dade Police Department, working in the division that investigates allegations of wrongdoing by cops. A criminal complaint unsealed in U.S. District Court in New Jersey Tuesday accuses Mata, also known as \"The Milk Man,\" of using his role as a police officer to help the drug trafficking organization in exchange for money and gifts, including a Rolex watch. It was not immediately clear whether Mata has an attorney, and police officials could not be immediately reached for comment.\n",
            "\n"
          ]
        },
        {
          "output_type": "stream",
          "name": "stderr",
          "text": [
            "/usr/local/lib/python3.9/dist-packages/sklearn/cluster/_kmeans.py:870: FutureWarning: The default value of `n_init` will change from 10 to 'auto' in 1.4. Set the value of `n_init` explicitly to suppress the warning\n",
            "  warnings.warn(\n"
          ]
        },
        {
          "output_type": "stream",
          "name": "stdout",
          "text": [
            "Article 3 Summary:\n",
            "A drunk driver who killed a young woman in a head-on crash while checking his mobile phone has been jailed for six years. Mr Eccleston-Todd's car was barely recognisable (pictured) Police said Eccleston-Todd had drunk at least three or four pints of beer before getting behind the wheel. Miss Titley’s death in these circumstances reiterates the danger of using a hand-held mobile phone whilst driving.’ I hope this will make people think twice before drinking any alcohol and getting behind the wheel, or using a phone once they're on the road. ' Eccleston-Todd, of Newport, Isle of Wight, was also disqualified from driving for eight years after which he will have to complete an extended re-test.\n",
            "\n"
          ]
        },
        {
          "output_type": "stream",
          "name": "stderr",
          "text": [
            "/usr/local/lib/python3.9/dist-packages/sklearn/cluster/_kmeans.py:870: FutureWarning: The default value of `n_init` will change from 10 to 'auto' in 1.4. Set the value of `n_init` explicitly to suppress the warning\n",
            "  warnings.warn(\n"
          ]
        },
        {
          "output_type": "stream",
          "name": "stdout",
          "text": [
            "Article 4 Summary:\n",
            "(CNN) -- With a breezy sweep of his pen President Vladimir Putin wrote a new chapter into Crimea's turbulent history, committing the region to a future returned to Russian domain. But dealing with such a blatant land grab on its eastern flank won't be anywhere near as quick and easy for Europe's 28-member union. Just look at Hermitage Capital founder Bill Browder who lost both his right of entry and Moscow-based money in 2005 and dare not go back.\n",
            "\n"
          ]
        },
        {
          "output_type": "stream",
          "name": "stderr",
          "text": [
            "/usr/local/lib/python3.9/dist-packages/sklearn/cluster/_kmeans.py:870: FutureWarning: The default value of `n_init` will change from 10 to 'auto' in 1.4. Set the value of `n_init` explicitly to suppress the warning\n",
            "  warnings.warn(\n"
          ]
        },
        {
          "output_type": "stream",
          "name": "stdout",
          "text": [
            "Article 5 Summary:\n",
            "Fleetwood are the only team still to have a 100% record in Sky Bet League One as a 2-0 win over Scunthorpe sent Graham Alexander’s men top of the table. Up for the battle: Sheffield United's Michael Doyle (left) challenges Peterborough's Kyle Vassell in a keenly-contested clash . Bradford are now second behind Fleetwood after Doncaster’s stoppage-time equaliser meant Preston, for whom Joe Garner signed a new contract earlier on Tuesday, were held to a 1-1 draw which slipped them down the table. Josh McQuoid and Jordan Clarke twice gave the Sky Blues the lead, but the Tykes earned a point thanks to strikes from Conor Hourihane and Leroy Lita.\n",
            "\n"
          ]
        },
        {
          "output_type": "stream",
          "name": "stderr",
          "text": [
            "/usr/local/lib/python3.9/dist-packages/sklearn/cluster/_kmeans.py:870: FutureWarning: The default value of `n_init` will change from 10 to 'auto' in 1.4. Set the value of `n_init` explicitly to suppress the warning\n",
            "  warnings.warn(\n"
          ]
        },
        {
          "output_type": "stream",
          "name": "stdout",
          "text": [
            "Article 6 Summary:\n",
            "Mr Cameron, who is in Lanzarote with his family, got  the £20.99 shoes from high street store Aldo and took them with him to Portugal last summer. Refreshment: David Cameron and his wife Samantha stop off for a coffee and a water during their break in Lanzarote .\n",
            "\n"
          ]
        },
        {
          "output_type": "stream",
          "name": "stderr",
          "text": [
            "/usr/local/lib/python3.9/dist-packages/sklearn/cluster/_kmeans.py:870: FutureWarning: The default value of `n_init` will change from 10 to 'auto' in 1.4. Set the value of `n_init` explicitly to suppress the warning\n",
            "  warnings.warn(\n"
          ]
        },
        {
          "output_type": "stream",
          "name": "stdout",
          "text": [
            "Article 7 Summary:\n",
            "More than two decades after Magic Johnson announced that he had HIV, the basketball player says he is still surprised at the impact the news had. Johnson, who became the face of HIV/Aids 22 years ago, is now campaigning for more people to get tested for the disease, especially those in black or Hispanic communities. Johnson admitted that when his team's doctor told him blood results had revealed he had HIV in 1991 he was 'devastated'. '\n",
            "\n"
          ]
        },
        {
          "output_type": "stream",
          "name": "stderr",
          "text": [
            "/usr/local/lib/python3.9/dist-packages/sklearn/cluster/_kmeans.py:870: FutureWarning: The default value of `n_init` will change from 10 to 'auto' in 1.4. Set the value of `n_init` explicitly to suppress the warning\n",
            "  warnings.warn(\n"
          ]
        },
        {
          "output_type": "stream",
          "name": "stdout",
          "text": [
            "Article 8 Summary:\n",
            "This is the moment a train announcer stunned passengers by announcing over a tannoy as they pulled into a station to beware of pickpockets and gipsies. This is the moment a train announcer stunned passengers by announcing over a tannoy as they pulled into a station to beware of pickpockets and gipsies . But London Midland said it is now launching an investigation into the incident on board the 17.25 Wolverhampton to Shrewsbury service. Yesterday Wolves fan Mr Downes, who was on his way home to Bayston Hill, Shropshire, with son Jack, 14, said: 'There had been loads of banter between the fans sharing carriages, which threatened to boil over.\n",
            "\n"
          ]
        },
        {
          "output_type": "stream",
          "name": "stderr",
          "text": [
            "/usr/local/lib/python3.9/dist-packages/sklearn/cluster/_kmeans.py:870: FutureWarning: The default value of `n_init` will change from 10 to 'auto' in 1.4. Set the value of `n_init` explicitly to suppress the warning\n",
            "  warnings.warn(\n"
          ]
        },
        {
          "output_type": "stream",
          "name": "stdout",
          "text": [
            "Article 9 Summary:\n",
            "There are a number of job descriptions waiting for Darren Fletcher when he settles in at West Brom but the one he might not have expected is Saido Berahino’s nanny. Ten years Berahino’s senior, Fletcher will be expected to mentor a player who told the world this week that he wanted to play for a bigger club. Fletcher has already been impressed by Berahino on the training ground but admitted: ‘The lads have gone straight into him.\n",
            "\n"
          ]
        },
        {
          "output_type": "stream",
          "name": "stderr",
          "text": [
            "/usr/local/lib/python3.9/dist-packages/sklearn/cluster/_kmeans.py:870: FutureWarning: The default value of `n_init` will change from 10 to 'auto' in 1.4. Set the value of `n_init` explicitly to suppress the warning\n",
            "  warnings.warn(\n"
          ]
        },
        {
          "output_type": "stream",
          "name": "stdout",
          "text": [
            "Article 10 Summary:\n",
            "Hidden behind an unmarked door, in a nondescript government office building in the Australian capital, it could be mistaken for a high school science classroom with work benches, slightly outdated computer monitors, and the odd microscope sitting in the corner. Just a handful of countries have the capability and technical know-how to decipher what's inside a black box. And if the Malaysians, who by international convention are in charge of the investigation into MH370, select Australia to take the lead, the devices will be brought here. ' Once the flight data recorder or cockpit voice recorder is retrieved from more than 4500 meters below the surface of the Indian Ocean, it will be packed in water in a plastic bin to stop any salt or chemicals from solidifying and damaging the memory board, says Campbell. But even with these recorders, Campbell still has options to tackle what some might consider an impossible task. Those include everything from altitude and airspeed, to flap settings, engine performance, even cabin temperature and pressure.\n",
            "\n"
          ]
        },
        {
          "output_type": "stream",
          "name": "stderr",
          "text": [
            "/usr/local/lib/python3.9/dist-packages/sklearn/cluster/_kmeans.py:870: FutureWarning: The default value of `n_init` will change from 10 to 'auto' in 1.4. Set the value of `n_init` explicitly to suppress the warning\n",
            "  warnings.warn(\n"
          ]
        },
        {
          "output_type": "stream",
          "name": "stdout",
          "text": [
            "Article 11 Summary:\n",
            "Take a look at a map today, and you’re likely to see that North America is larger than Africa, Alaska is larger than Mexico and China is smaller than Greenland. But in reality China is four times bigger than Greenland, Africa is three times bigger than North America and Mexico is larger than Alaska. The distortion is the result of the Mercator projection, the map most commonly seen hanging in classrooms and in text books, which was created in 1596 to help sailors navigate the world. However it also has its flaws as certain places appear stretched, horizontally near the poles and vertically near the Equator . The map was made by a German cartographer living in Florence and reflects the latest theories about the form of the world and the most accurate ways of portraying it on a flat surface . The creators exaggerated the size of China and placed it in the middle of a world that otherwise consisted mainly of small offshore islands . The Werner heart-shaped project of the world (left) The fact that our maps typically put north at the top is a mere convention but has been accepted as correct in most of the world. Photo of a genuine hand drawn world map, it was drawn in 1844 and therefore the countries are named as they were in that period. Today, billions of searches are made on Google Maps each day, helping people navigate their way around, streets, towns and countries.\n",
            "\n"
          ]
        },
        {
          "output_type": "stream",
          "name": "stderr",
          "text": [
            "/usr/local/lib/python3.9/dist-packages/sklearn/cluster/_kmeans.py:870: FutureWarning: The default value of `n_init` will change from 10 to 'auto' in 1.4. Set the value of `n_init` explicitly to suppress the warning\n",
            "  warnings.warn(\n"
          ]
        },
        {
          "output_type": "stream",
          "name": "stdout",
          "text": [
            "Article 12 Summary:\n",
            "claims to have had sex as a minor with prominent U.S. criminal defense lawyer Alan Dershowitz have filed a counter-defamation . On Monday Dershowitz, who was part of O.J. Simpson's 'dream team', filed defamation suits in both London and the U.S. based on the lawyers' public statements about the case and he urged Prince Andrew to do the same.\n",
            "\n"
          ]
        },
        {
          "output_type": "stream",
          "name": "stderr",
          "text": [
            "/usr/local/lib/python3.9/dist-packages/sklearn/cluster/_kmeans.py:870: FutureWarning: The default value of `n_init` will change from 10 to 'auto' in 1.4. Set the value of `n_init` explicitly to suppress the warning\n",
            "  warnings.warn(\n"
          ]
        },
        {
          "output_type": "stream",
          "name": "stdout",
          "text": [
            "Article 13 Summary:\n",
            "It's the moment every pet owner dreads - when the time comes when they have to say a final goodbye to a faithful friend. Mrs Ernhart, who has been a professional photographer since 2006, trademarked the name Joy Session, and began offering them in 2010. The service has become so popular that Mrs Ernhart has built a directory of photographers around the world who shoot terminally ill pets with their owners. ' Last moments: The beautiful, yet heartbreaking pictures, are meant to highlight the relationship between pet and owner before they pass . '\n",
            "\n"
          ]
        },
        {
          "output_type": "stream",
          "name": "stderr",
          "text": [
            "/usr/local/lib/python3.9/dist-packages/sklearn/cluster/_kmeans.py:870: FutureWarning: The default value of `n_init` will change from 10 to 'auto' in 1.4. Set the value of `n_init` explicitly to suppress the warning\n",
            "  warnings.warn(\n"
          ]
        },
        {
          "output_type": "stream",
          "name": "stdout",
          "text": [
            "Article 14 Summary:\n",
            "Louis van Gaal said he had no option but to substitute Paddy McNair in the first half against Southampton because the defender's 'confidence' was shot - but believes that it will benefit the youngster in the long run. Paddy McNair (centre) was substituted after only 39 minutes for Manchester United against Southampton . But in spite of the fact United won the game, McNair was exposed time after time in defence and was substituted - even though Chris Smalling had already departed early with an injury.\n",
            "\n"
          ]
        },
        {
          "output_type": "stream",
          "name": "stderr",
          "text": [
            "/usr/local/lib/python3.9/dist-packages/sklearn/cluster/_kmeans.py:870: FutureWarning: The default value of `n_init` will change from 10 to 'auto' in 1.4. Set the value of `n_init` explicitly to suppress the warning\n",
            "  warnings.warn(\n"
          ]
        },
        {
          "output_type": "stream",
          "name": "stdout",
          "text": [
            "Article 15 Summary:\n",
            "(CNN) -- One can hardly read the news these days without learning that yet another American corporation has announced plans to invert, which is corporate-speak for restructuring as a foreign company to avoid U.S. taxes. Now that corporate giants such as Pfizer, Walgreen, Medtronic and Mylan have made bids to invert by merging with foreign companies and will be eligible to claim their headquarters are offshore to avoid U.S. taxes, Congress may finally act. Defenders of corporate inversions often argue the United States' 35% statutory corporate tax rate is too high compared to that of other nations and therefore puts companies at a competitive disadvantage, but most U.S. companies pay nowhere near that rate. The ultimate goal of much multinational tax planning is making profits appear to be earned in countries with a zero or low tax rate. They would not exist without federal investments in research and education and in the infrastructure that makes commerce possible.\n",
            "\n"
          ]
        },
        {
          "output_type": "stream",
          "name": "stderr",
          "text": [
            "/usr/local/lib/python3.9/dist-packages/sklearn/cluster/_kmeans.py:870: FutureWarning: The default value of `n_init` will change from 10 to 'auto' in 1.4. Set the value of `n_init` explicitly to suppress the warning\n",
            "  warnings.warn(\n"
          ]
        },
        {
          "output_type": "stream",
          "name": "stdout",
          "text": [
            "Article 16 Summary:\n",
            "Taking your smartphone or tablet away on holiday keep you in touch with what's going on back home, as well as offering a chance to monitor 'work emails.' But a 'digital detox' revolution is taking place - a chance to embrace the holiday free from modern technology and reminders of home life. Half of all Brits polled admit to checking work e-mails while away and four in 10 say having access to social media is 'very important' to them when they’re abroad. Alison Couper, of Hotels.com, said: ‘Going away on holiday should be a time to take stock and unwind, whether you're lying on a beach in the Seychelles or snowboarding down a mountain in Canada. ‘\n",
            "\n"
          ]
        },
        {
          "output_type": "stream",
          "name": "stderr",
          "text": [
            "/usr/local/lib/python3.9/dist-packages/sklearn/cluster/_kmeans.py:870: FutureWarning: The default value of `n_init` will change from 10 to 'auto' in 1.4. Set the value of `n_init` explicitly to suppress the warning\n",
            "  warnings.warn(\n"
          ]
        },
        {
          "output_type": "stream",
          "name": "stdout",
          "text": [
            "Article 17 Summary:\n",
            "Nigerian and Cameroonian pop star Dencia has hit out at Lupita Nyong'o for her new contract with Lancome, accusing her of bowing to 'white people companies'. The comment comes just a month after Miss Nyong'o mentioned Dencia - who has been accused of marketing her own brand of skin-bleaching cream called Whitenicious - in a speech about learning to value the color of her own skin. Given her defiant and hypocritical attitude, it's no surprise the fiery singer was angered when Miss Nyong'o called her out in a speech at Essence's Black Women in Hollywood event on February 27. I was just about to buy Dencia's Whitenicious cream to lighten my skin when you appeared on the world map and saved me.' '\n",
            "\n"
          ]
        },
        {
          "output_type": "stream",
          "name": "stderr",
          "text": [
            "/usr/local/lib/python3.9/dist-packages/sklearn/cluster/_kmeans.py:870: FutureWarning: The default value of `n_init` will change from 10 to 'auto' in 1.4. Set the value of `n_init` explicitly to suppress the warning\n",
            "  warnings.warn(\n"
          ]
        },
        {
          "output_type": "stream",
          "name": "stdout",
          "text": [
            "Article 18 Summary:\n",
            "Britain and the West must brace themselves for more bloody atrocities before Islamist jihadists in Iraq  are defeated, former top brass said  last night. Air Chief Marshal Sir Michael Graydon, a former head of the RAF, and Air Commodore Andrew Lambert, a former air defence chief who commanded forces in Iraq, called for Britain to ramp up military options in Iraq. They spoke out after a jihadist, with a British accent, murdered US journalist James Foley - claiming it was in revenge for US air strikes . The jihadists have got their hands on artillery and weapons looted from the Iraqi army, which has given them a huge advantage. One of the British jihadists in the region, Nasser Muthana, is a 20-year-old former Cardiff schoolboy who featured prominently in Islamic State’s first professionally produced English-language propaganda video, which urged young Muslims in the West to join the terror group. The young jihadist, who describes himself on Twitter as a ‘soldier of the Islamic State’, said last month the UK government should be ‘afraid’ of his bomb-making skills. British Muslims must be stronger in their condemnation of jihadists and the hate preachers who recruit them, Islamic community leaders said yesterday. In the wake of US journalist James Foley’s brutal murder, they urged imams and mosques to do more to combat extremists – even if it means risking reprisals. Some imams have already made repeated appeals to radicalised youngsters not to join militants in the Middle East.\n",
            "\n"
          ]
        },
        {
          "output_type": "stream",
          "name": "stderr",
          "text": [
            "/usr/local/lib/python3.9/dist-packages/sklearn/cluster/_kmeans.py:870: FutureWarning: The default value of `n_init` will change from 10 to 'auto' in 1.4. Set the value of `n_init` explicitly to suppress the warning\n",
            "  warnings.warn(\n"
          ]
        },
        {
          "output_type": "stream",
          "name": "stdout",
          "text": [
            "Article 19 Summary:\n",
            "A woman has been charged with reckless manslaughter after her boyfriend's mother tried to stop them fighting and suffered a fatal heart attack. Claudia Yanira Hernandez Soriano, 25, and Juan Francisco Martinez Rojas, 28, started punching and scratching each other after they returned to their Bergen, New Jersey home following a party early on Monday. When Ana Angelina Rojas-Jovel, 45, tried to break them up, Hernandez Soriano assaulted the woman, according to the Bergen County Prosecutor. '\n",
            "\n",
            "Article 20 Summary:\n",
            "Beirut (CNN) -- Syria carried out an airstrike on a refugee camp in northern Lebanon Saturday, killing nine Syrians and wounding nine more, a Lebanese state-run news agency reported. Also in March, the U.N. Security Council voiced \"grave concern over repeated incidents of cross-border fire which caused death and injury among the Lebanese population, incursions, abductions and arms trafficking across the Lebanese-Syrian border, as well as other border violations.\"\n",
            "\n"
          ]
        },
        {
          "output_type": "stream",
          "name": "stderr",
          "text": [
            "/usr/local/lib/python3.9/dist-packages/sklearn/cluster/_kmeans.py:870: FutureWarning: The default value of `n_init` will change from 10 to 'auto' in 1.4. Set the value of `n_init` explicitly to suppress the warning\n",
            "  warnings.warn(\n"
          ]
        }
      ]
    },
    {
      "cell_type": "code",
      "source": [
        "!pip install rouge\n",
        "from rouge import Rouge\n",
        "rouge = Rouge()\n",
        "for index, row in data.iterrows():\n",
        "    article = row['article']\n",
        "    highlights = row['highlights']\n",
        "    scores = rouge.get_scores(summary, highlights)\n",
        "    print(\"Article\", index+1)\n",
        "    print(\"ROUGE-1:\", scores[0]['rouge-1'])\n",
        "    print(\"ROUGE-2:\", scores[0]['rouge-2'])\n",
        "    print(\"ROUGE-L:\", scores[0]['rouge-l'])"
      ],
      "metadata": {
        "colab": {
          "base_uri": "https://localhost:8080/"
        },
        "id": "Ej5RrDi0RaEl",
        "outputId": "ab7a4b21-29dd-4bbf-df99-5542846c8d3e"
      },
      "execution_count": 51,
      "outputs": [
        {
          "output_type": "stream",
          "name": "stdout",
          "text": [
            "Looking in indexes: https://pypi.org/simple, https://us-python.pkg.dev/colab-wheels/public/simple/\n",
            "Requirement already satisfied: rouge in /usr/local/lib/python3.9/dist-packages (1.0.1)\n",
            "Requirement already satisfied: six in /usr/local/lib/python3.9/dist-packages (from rouge) (1.16.0)\n",
            "Article 1\n",
            "ROUGE-1: {'r': 0.12121212121212122, 'p': 0.06451612903225806, 'f': 0.0842105217817177}\n",
            "ROUGE-2: {'r': 0.0, 'p': 0.0, 'f': 0.0}\n",
            "ROUGE-L: {'r': 0.12121212121212122, 'p': 0.06451612903225806, 'f': 0.0842105217817177}\n",
            "Article 2\n",
            "ROUGE-1: {'r': 0.09090909090909091, 'p': 0.04838709677419355, 'f': 0.06315789020277042}\n",
            "ROUGE-2: {'r': 0.0, 'p': 0.0, 'f': 0.0}\n",
            "ROUGE-L: {'r': 0.09090909090909091, 'p': 0.04838709677419355, 'f': 0.06315789020277042}\n",
            "Article 3\n",
            "ROUGE-1: {'r': 0.08771929824561403, 'p': 0.08064516129032258, 'f': 0.08403360845420552}\n",
            "ROUGE-2: {'r': 0.0, 'p': 0.0, 'f': 0.0}\n",
            "ROUGE-L: {'r': 0.07017543859649122, 'p': 0.06451612903225806, 'f': 0.06722688576512995}\n",
            "Article 4\n",
            "ROUGE-1: {'r': 0.06818181818181818, 'p': 0.04838709677419355, 'f': 0.0566037687290855}\n",
            "ROUGE-2: {'r': 0.0, 'p': 0.0, 'f': 0.0}\n",
            "ROUGE-L: {'r': 0.06818181818181818, 'p': 0.04838709677419355, 'f': 0.0566037687290855}\n",
            "Article 5\n",
            "ROUGE-1: {'r': 0.10526315789473684, 'p': 0.0967741935483871, 'f': 0.10084033114328109}\n",
            "ROUGE-2: {'r': 0.0, 'p': 0.0, 'f': 0.0}\n",
            "ROUGE-L: {'r': 0.10526315789473684, 'p': 0.0967741935483871, 'f': 0.10084033114328109}\n",
            "Article 6\n",
            "ROUGE-1: {'r': 0.19444444444444445, 'p': 0.11290322580645161, 'f': 0.1428571382090797}\n",
            "ROUGE-2: {'r': 0.0, 'p': 0.0, 'f': 0.0}\n",
            "ROUGE-L: {'r': 0.16666666666666666, 'p': 0.0967741935483871, 'f': 0.1224489749437736}\n",
            "Article 7\n",
            "ROUGE-1: {'r': 0.05, 'p': 0.016129032258064516, 'f': 0.0243902402141588}\n",
            "ROUGE-2: {'r': 0.0, 'p': 0.0, 'f': 0.0}\n",
            "ROUGE-L: {'r': 0.05, 'p': 0.016129032258064516, 'f': 0.0243902402141588}\n",
            "Article 8\n",
            "ROUGE-1: {'r': 0.13043478260869565, 'p': 0.0967741935483871, 'f': 0.1111111062208507}\n",
            "ROUGE-2: {'r': 0.0, 'p': 0.0, 'f': 0.0}\n",
            "ROUGE-L: {'r': 0.13043478260869565, 'p': 0.0967741935483871, 'f': 0.1111111062208507}\n",
            "Article 9\n",
            "ROUGE-1: {'r': 0.09090909090909091, 'p': 0.06451612903225806, 'f': 0.07547169325738728}\n",
            "ROUGE-2: {'r': 0.0, 'p': 0.0, 'f': 0.0}\n",
            "ROUGE-L: {'r': 0.09090909090909091, 'p': 0.06451612903225806, 'f': 0.07547169325738728}\n",
            "Article 10\n",
            "ROUGE-1: {'r': 0.10869565217391304, 'p': 0.08064516129032258, 'f': 0.09259258770233222}\n",
            "ROUGE-2: {'r': 0.0, 'p': 0.0, 'f': 0.0}\n",
            "ROUGE-L: {'r': 0.10869565217391304, 'p': 0.08064516129032258, 'f': 0.09259258770233222}\n",
            "Article 11\n",
            "ROUGE-1: {'r': 0.10465116279069768, 'p': 0.14516129032258066, 'f': 0.12162161675310466}\n",
            "ROUGE-2: {'r': 0.00847457627118644, 'p': 0.014285714285714285, 'f': 0.010638293198281818}\n",
            "ROUGE-L: {'r': 0.09302325581395349, 'p': 0.12903225806451613, 'f': 0.10810810323959115}\n",
            "Article 12\n",
            "ROUGE-1: {'r': 0.12244897959183673, 'p': 0.0967741935483871, 'f': 0.10810810317669042}\n",
            "ROUGE-2: {'r': 0.0, 'p': 0.0, 'f': 0.0}\n",
            "ROUGE-L: {'r': 0.12244897959183673, 'p': 0.0967741935483871, 'f': 0.10810810317669042}\n",
            "Article 13\n",
            "ROUGE-1: {'r': 0.13953488372093023, 'p': 0.0967741935483871, 'f': 0.11428570944943331}\n",
            "ROUGE-2: {'r': 0.0, 'p': 0.0, 'f': 0.0}\n",
            "ROUGE-L: {'r': 0.11627906976744186, 'p': 0.08064516129032258, 'f': 0.09523809040181432}\n",
            "Article 14\n",
            "ROUGE-1: {'r': 0.06382978723404255, 'p': 0.04838709677419355, 'f': 0.05504586665432246}\n",
            "ROUGE-2: {'r': 0.0, 'p': 0.0, 'f': 0.0}\n",
            "ROUGE-L: {'r': 0.06382978723404255, 'p': 0.04838709677419355, 'f': 0.05504586665432246}\n",
            "Article 15\n",
            "ROUGE-1: {'r': 0.05128205128205128, 'p': 0.03225806451612903, 'f': 0.03960395565532848}\n",
            "ROUGE-2: {'r': 0.0, 'p': 0.0, 'f': 0.0}\n",
            "ROUGE-L: {'r': 0.05128205128205128, 'p': 0.03225806451612903, 'f': 0.03960395565532848}\n",
            "Article 16\n",
            "ROUGE-1: {'r': 0.1276595744680851, 'p': 0.0967741935483871, 'f': 0.11009173821395528}\n",
            "ROUGE-2: {'r': 0.0, 'p': 0.0, 'f': 0.0}\n",
            "ROUGE-L: {'r': 0.1276595744680851, 'p': 0.0967741935483871, 'f': 0.11009173821395528}\n",
            "Article 17\n",
            "ROUGE-1: {'r': 0.13636363636363635, 'p': 0.04838709677419355, 'f': 0.07142856756235848}\n",
            "ROUGE-2: {'r': 0.0, 'p': 0.0, 'f': 0.0}\n",
            "ROUGE-L: {'r': 0.13636363636363635, 'p': 0.04838709677419355, 'f': 0.07142856756235848}\n",
            "Article 18\n",
            "ROUGE-1: {'r': 0.12280701754385964, 'p': 0.11290322580645161, 'f': 0.11764705383235667}\n",
            "ROUGE-2: {'r': 0.015151515151515152, 'p': 0.014285714285714285, 'f': 0.014705877357268133}\n",
            "ROUGE-L: {'r': 0.10526315789473684, 'p': 0.0967741935483871, 'f': 0.10084033114328109}\n",
            "Article 19\n",
            "ROUGE-1: {'r': 0.08, 'p': 0.06451612903225806, 'f': 0.07142856648596972}\n",
            "ROUGE-2: {'r': 0.0, 'p': 0.0, 'f': 0.0}\n",
            "ROUGE-L: {'r': 0.06, 'p': 0.04838709677419355, 'f': 0.053571423628826983}\n",
            "Article 20\n",
            "ROUGE-1: {'r': 0.4074074074074074, 'p': 0.1774193548387097, 'f': 0.24719100700921603}\n",
            "ROUGE-2: {'r': 0.07142857142857142, 'p': 0.02857142857142857, 'f': 0.04081632244898}\n",
            "ROUGE-L: {'r': 0.37037037037037035, 'p': 0.16129032258064516, 'f': 0.2247190968968565}\n"
          ]
        }
      ]
    },
    {
      "cell_type": "code",
      "source": [
        "# Calculate average ROUGE scores across all articles\n",
        "rouge_1_scores = [s['rouge-1']['f'] for s in scores]\n",
        "rouge_2_scores = [s['rouge-2']['f'] for s in scores]\n",
        "rouge_l_scores = [s['rouge-l']['f'] for s in scores]\n",
        "\n",
        "overall_rouge_1 = sum(rouge_1_scores) / len(rouge_1_scores)\n",
        "overall_rouge_2 = sum(rouge_2_scores) / len(rouge_2_scores)\n",
        "overall_rouge_l = sum(rouge_l_scores) / len(rouge_l_scores)\n",
        "\n",
        "print(\"Overall ROUGE-1: {:.2f}\".format(overall_rouge_1))\n",
        "print(\"Overall ROUGE-2: {:.2f}\".format(overall_rouge_2))\n",
        "print(\"Overall ROUGE-L: {:.2f}\".format(overall_rouge_l))"
      ],
      "metadata": {
        "colab": {
          "base_uri": "https://localhost:8080/"
        },
        "id": "qDGYSmzKRhV4",
        "outputId": "c5163ec9-9b44-4cf4-d8a6-2f7d83e350f4"
      },
      "execution_count": 52,
      "outputs": [
        {
          "output_type": "stream",
          "name": "stdout",
          "text": [
            "Overall ROUGE-1: 0.25\n",
            "Overall ROUGE-2: 0.04\n",
            "Overall ROUGE-L: 0.22\n"
          ]
        }
      ]
    },
    {
      "cell_type": "code",
      "source": [
        "text = \"As Australian Fashion Week comes to a close, a new damning report has named and shamed some of the worst clothing brands sold in Australia and their companies, for the ongoing exploitation of their overseas workers. Lowes, Industrie, Best & Less and the Just Group - which includes Just Jeans, Portmans and Dotti - were identified as some of the worst performing companies by The 2015 Australian Fashion Report. Amongst the best performers were Etiko, Audrey Blue, Cotton On, H&M and Zara. The report assessed the labour rights management systems of 59 companies and 219 brands operating in Australia. The 2015 Australian Fashion Report has named and shamed some of the worst Aussie clothing brands and companies for their ongoing exploitation of overseas workers . Amongst the best performers were Etiko, Audrey Blue, Cotton On, H&M and Zara . It found that only two of the companies could prove they were paying a full living wage to the workers in two of the three production stages of their clothing. None of the 59 companies could prove the workers at their raw material suppliers were paid a living wage. Unlike a country's legally set minimum wage, a living wage ensures that an employee has enough money to cover the necessities - like food, water, electricity and shelter - and still has a little left over for themselves and their dependants. In some countries like Bangladesh, where the minimum wage is as little as US$68 a month and a living wage is US$104, the difference can be made by paying each worker just an additional 30c per t-shirt. Lowes, Industrie, Best & Less and the Just Group - which includes Just Jeans, Portmans and Dotti - were identified as some of the worst performers . 'The whole point in our reporting scorecard is if these companies don't have rigours systems in place to mitigate against those risks then you can't be sure that there is no forced labour or child labour in their supply chain,' Gershon Nimbalker, an advocacy manager at Baptist World Aid, said . 'A mere 12 per cent of companies could demonstrate any action towards paying wages above the legal minimum, and even then, only for part of their supply chain,' the report states. 'Furthermore, 91 per cent of companies still don't know where all their cotton comes from and 75 per cent don't know the source of all their fabrics and inputs. 'If companies don't know how and where their products are made, then there's no way for them to ensure that their workers are protected.' Uzbekistan for instance, the world's fifth largest exporter of cotton, was notorious for its  child labour policies which saw children as young as 10 forced to work in the fields until the government recently  improved conditions by renouncing the use of child labour 'on a systematic basis'. 'Furthermore, 91 per cent of companies still don't know where all their cotton comes from and 75 per cent don't know the source of all their fabrics and inputs,' the report stated . Gershon Nimbalker, an advocacy manager at Baptist World Aid told Daily Mail Australia that part of the motivation behind the report was to shed light on how many of the world's 165 million children involved in child labour were employed by the fashion industry. 'The whole point in our reporting scorecard is if these companies don't have rigours systems in place to mitigate against those risks then you can't be sure that there is no forced labour or child labour in their supply chain,' he said. 'There were 61 assessment criteria that we used to grade the companies that were put together with lots of collaboration with international labour rights organisations. 'We found all the public information available on the companies - public statements, anything online - and compiled and assessed it before sending a copy to the company and asking for feedback or asking them to tell us what we missed. The report comes almost two years after over 1,100 Bangladeshi garment workers died when the Rana Plaza factory collapsed in Bangladesh due to building safety problems . 'We found all the public information available on the companies - public statements, anything online - and compiled and assessed it before sending a copy to the company and asking for feedback or asking them to tell us what we missed. 'The worst grades basically mean that they have very little public information available about what they're doing to protect workers and on top of that that they haven't engaged with our research process. About 75 per cent did engage, but one quarter didn't.' However the report also noted some progress in the industry with companies like Kmart and Cotton On improving their transparency by identifying their suppliers, and H&M, Zara, Country Road and the Sussan Group showing attempts to improve their international worker's pay.\"\n",
        "summary_text = generate_summary(text)"
      ],
      "metadata": {
        "colab": {
          "base_uri": "https://localhost:8080/"
        },
        "id": "DuM0Hdt06-78",
        "outputId": "2f3f727e-26a2-4043-8bbb-b74c3acfde2b"
      },
      "execution_count": 56,
      "outputs": [
        {
          "output_type": "stream",
          "name": "stderr",
          "text": [
            "/usr/local/lib/python3.9/dist-packages/sklearn/cluster/_kmeans.py:870: FutureWarning: The default value of `n_init` will change from 10 to 'auto' in 1.4. Set the value of `n_init` explicitly to suppress the warning\n",
            "  warnings.warn(\n"
          ]
        }
      ]
    },
    {
      "cell_type": "code",
      "source": [
        "print(summary_text)"
      ],
      "metadata": {
        "colab": {
          "base_uri": "https://localhost:8080/"
        },
        "id": "61V02CD4-zp3",
        "outputId": "ff842aaa-93ea-4c87-9afe-4a20025ecad5"
      },
      "execution_count": 59,
      "outputs": [
        {
          "output_type": "stream",
          "name": "stdout",
          "text": [
            "As Australian Fashion Week comes to a close, a new damning report has named and shamed some of the worst clothing brands sold in Australia and their companies, for the ongoing exploitation of their overseas workers. Lowes, Industrie, Best & Less and the Just Group - which includes Just Jeans, Portmans and Dotti - were identified as some of the worst performers . ' The whole point in our reporting scorecard is if these companies don't have rigours systems in place to mitigate against those risks then you can't be sure that there is no forced labour or child labour in their supply chain,' Gershon Nimbalker, an advocacy manager at Baptist World Aid, said . ' We found all the public information available on the companies - public statements, anything online - and compiled and assessed it before sending a copy to the company and asking for feedback or asking them to tell us what we missed. However the report also noted some progress in the industry with companies like Kmart and Cotton On improving their transparency by identifying their suppliers, and H&M, Zara, Country Road and the Sussan Group showing attempts to improve their international worker's pay.\n"
          ]
        }
      ]
    },
    {
      "cell_type": "code",
      "source": [
        "original_summary = \"Australian Fashion Report revealed the Australian-sold brands and companies that ignore the exploitation of their overseas workers .Lowes, Industrie, Best & Less and the Just Group - which includes Just Jeans, Portmans and Dotti - were  some of the worst performers.Etiko, Audrey Blue, Cotton On, H&M and Zara had some of the best scores.75 per cent of companies don't know the source of all their fabrics and inputs .\"\n",
        "scores = rouge.get_scores(summary_text, original_summary)\n",
        "print(\"ROUGE-1:\", scores[0]['rouge-1'])\n",
        "print(\"ROUGE-2:\", scores[0]['rouge-2'])\n",
        "print(\"ROUGE-L:\", scores[0]['rouge-l'])"
      ],
      "metadata": {
        "colab": {
          "base_uri": "https://localhost:8080/"
        },
        "id": "3Fhg-ajVDTmC",
        "outputId": "caddf116-43b2-42c6-93b0-02216abe2b4e"
      },
      "execution_count": 60,
      "outputs": [
        {
          "output_type": "stream",
          "name": "stdout",
          "text": [
            "ROUGE-1: {'r': 0.6153846153846154, 'p': 0.22377622377622378, 'f': 0.32820512429401716}\n",
            "ROUGE-2: {'r': 0.43283582089552236, 'p': 0.1518324607329843, 'f': 0.2248061977053663}\n",
            "ROUGE-L: {'r': 0.5961538461538461, 'p': 0.21678321678321677, 'f': 0.3179487140376069}\n"
          ]
        }
      ]
    }
  ]
}